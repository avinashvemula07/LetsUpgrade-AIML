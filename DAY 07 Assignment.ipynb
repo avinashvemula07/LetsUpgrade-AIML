{
 "cells": [
  {
   "cell_type": "markdown",
   "metadata": {},
   "source": [
    "## LetsUpgarde\n",
    "\n",
    "### DAY07 Assignment\n",
    "\n",
    "#### Avinash Vemula - vemulaavinash666@gmail.com - 8096425870"
   ]
  },
  {
   "cell_type": "markdown",
   "metadata": {},
   "source": [
    "__Question 1:__\n",
    "    \n",
    "Write a program to copy the contents of one file to another using a for loop. (Don’t use built-in copy\n",
    "function)"
   ]
  },
  {
   "cell_type": "code",
   "execution_count": 1,
   "metadata": {},
   "outputs": [],
   "source": [
    "file1 = open(\"avinash.txt\",'w')\n",
    "file1.write(\"Welcome to the AI ML advanced program\")\n",
    "file1.close() "
   ]
  },
  {
   "cell_type": "code",
   "execution_count": 2,
   "metadata": {},
   "outputs": [
    {
     "name": "stdout",
     "output_type": "stream",
     "text": [
      "file2: Welcome to the AI ML advanced program\n"
     ]
    }
   ],
   "source": [
    "file1 = open(\"avinash.txt\",'r')\n",
    "\n",
    "file2 = open(\"avinashcopy.txt\",'w')\n",
    "\n",
    "content = file1.readlines() \n",
    "\n",
    "for i in range(0, len(content)):\n",
    "    file2.write(content[i])\n",
    "    \n",
    "file2.close()\n",
    "\n",
    "file2 = open(\"avinashcopy.txt\",'r')\n",
    "print(\"file2:\", file2.read())\n",
    "\n",
    "file1.close()\n",
    "file2.close()"
   ]
  },
  {
   "cell_type": "markdown",
   "metadata": {},
   "source": [
    "__Question 2:__\n",
    "    \n",
    "Write a Python program to find maximum and minimum values in the dictionary. Do not use built-in min\n",
    "and max functions"
   ]
  },
  {
   "cell_type": "code",
   "execution_count": 9,
   "metadata": {},
   "outputs": [
    {
     "name": "stdout",
     "output_type": "stream",
     "text": [
      "dict_keys([1, 2, 3, 4, 5, 6])\n",
      "max : 87\n",
      "min : 12\n"
     ]
    }
   ],
   "source": [
    "d = {1:12,2:32,3:14,4:42,5:87,6:52}\n",
    "keys = d.keys()\n",
    "print(keys)\n",
    "    \n",
    "max_value = 0                \n",
    "min_value = 1000\n",
    "for key in keys:\n",
    "    if min_value > d[key]:\n",
    "        min_value = d[key]\n",
    "    \n",
    "    if max_value < d[key]:\n",
    "        max_value = d[key]\n",
    "\n",
    "print('max :',max_value)\n",
    "print('min :',min_value)"
   ]
  },
  {
   "cell_type": "code",
   "execution_count": null,
   "metadata": {},
   "outputs": [],
   "source": []
  }
 ],
 "metadata": {
  "kernelspec": {
   "display_name": "Python 3",
   "language": "python",
   "name": "python3"
  },
  "language_info": {
   "codemirror_mode": {
    "name": "ipython",
    "version": 3
   },
   "file_extension": ".py",
   "mimetype": "text/x-python",
   "name": "python",
   "nbconvert_exporter": "python",
   "pygments_lexer": "ipython3",
   "version": "3.7.3"
  }
 },
 "nbformat": 4,
 "nbformat_minor": 2
}
