{
 "cells": [
  {
   "cell_type": "markdown",
   "metadata": {},
   "source": [
    "## LetsUpgarde\n",
    "\n",
    "### DAY05 Assignment\n",
    "\n",
    "#### Avinash Vemula - vemulaavinash666@gmail.com - 8096425870"
   ]
  },
  {
   "cell_type": "markdown",
   "metadata": {},
   "source": [
    "__Question 1 :__\n",
    "Write a Python program to find the first 20 non-even prime natural numbers."
   ]
  },
  {
   "cell_type": "code",
   "execution_count": 1,
   "metadata": {},
   "outputs": [
    {
     "name": "stdout",
     "output_type": "stream",
     "text": [
      "Enter lower range: 1\n",
      "Enter upper range: 100\n",
      "3 5 7 11 13 17 19 23 29 31 37 41 43 47 53 59 61 67 71 73 "
     ]
    }
   ],
   "source": [
    "lower = int(input(\"Enter lower range: \"))  \n",
    "upper = int(input(\"Enter upper range: \")) \n",
    "count = 0\n",
    "for num in range(lower,upper + 1):\n",
    "    if num > 2:\n",
    "        for i in range(2,num):\n",
    "            if (num % i== 0):\n",
    "                break  \n",
    "            \n",
    "   \n",
    "        else:\n",
    "            count = count +1\n",
    "            if (count <= 20):\n",
    "                print(num, end= ' ')"
   ]
  },
  {
   "cell_type": "markdown",
   "metadata": {},
   "source": [
    "__Question 2 :__\n",
    "Write a Python program to implement 15 functions of string."
   ]
  },
  {
   "cell_type": "code",
   "execution_count": 2,
   "metadata": {},
   "outputs": [
    {
     "name": "stdout",
     "output_type": "stream",
     "text": [
      "Avinash\n",
      "AVINASH\n",
      "aVemulavVemulaiVemulanVemulaaVemulasVemulah\n",
      "      avinash       \n",
      "2\n",
      "False\n",
      "6\n",
      "vemula\n",
      "Avinash\n",
      "AVINASH\n",
      "True\n",
      "000avinash\n",
      "['x', 'y', 'z']\n",
      "['z,c', ' q']\n",
      "b'avinash'\n"
     ]
    }
   ],
   "source": [
    "a = 'avinash'\n",
    "print(a.capitalize())\n",
    "print(a.upper())\n",
    "print('Vemula'.join(a))\n",
    "print(a.center(20))\n",
    "print(a.count(\"a\"))\n",
    "print(a.endswith(\".\"))\n",
    "print(a.index(\"h\"))\n",
    "print(a.replace(\"avinash\", \"vemula\"))\n",
    "print(a.title())\n",
    "print(a.swapcase())\n",
    "print(a.islower())\n",
    "print(a.zfill(10))\n",
    "b = 'x#y#z'\n",
    "print(b.split(\"#\"))\n",
    "c = 'z,c\\n q'\n",
    "print(c.splitlines())\n",
    "print(a.encode())"
   ]
  },
  {
   "cell_type": "markdown",
   "metadata": {},
   "source": [
    "__Question 3:__\n",
    "Write a Python program to check if the given string is a Palindrome or Anagram or None of them. Display\n",
    "the message accordingly to the user."
   ]
  },
  {
   "cell_type": "code",
   "execution_count": 6,
   "metadata": {},
   "outputs": [
    {
     "name": "stdout",
     "output_type": "stream",
     "text": [
      "Given strings are anagram\n",
      "Given string is Palindrome\n"
     ]
    }
   ],
   "source": [
    "def is_anagram(s1, s2):\n",
    "    w1 = list(s1)\n",
    "    w1.sort()\n",
    "    w2 = list(s2)\n",
    "    w2.sort()\n",
    "    if(w1 == w2):\n",
    "        print(\"Given strings are anagram\")\n",
    "    else:\n",
    "        print(\"given strings are not anagrams\")\n",
    "\n",
    "def is_palindrome(s1):\n",
    "    s2 = s1[::-1]\n",
    "    if(s1 == s2):\n",
    "        print(\"Given string is Palindrome\")\n",
    "    else:\n",
    "        print(\"given string is not plindorme\")\n",
    "\n",
    "is_anagram('education','cautioned')\n",
    "is_palindrome('malayalam')"
   ]
  },
  {
   "cell_type": "code",
   "execution_count": 10,
   "metadata": {},
   "outputs": [
    {
     "name": "stdout",
     "output_type": "stream",
     "text": [
      "Given strings are not palindorme and anagram\n"
     ]
    }
   ],
   "source": [
    "s = \"malayalam\"\n",
    "t = \"education\"\n",
    "s1 = s[::-1]\n",
    "s2 = list(s)\n",
    "s2.sort()\n",
    "t1 = list(t)\n",
    "t1.sort()\n",
    "if(s ==s1):\n",
    "    print(\"Given string is Palindrome\")\n",
    "elif(s2 == t1):\n",
    "    print(\"Given strings are anagram\")\n",
    "else:\n",
    "    print(\"Given strings are not palindorme and anagram\")\n",
    "    \n",
    "    "
   ]
  },
  {
   "cell_type": "markdown",
   "metadata": {},
   "source": [
    "__Question 4:__\n",
    "Write a Python's user-defined function that removes all the additional characters from the string and\n",
    "convert it finally to lower case using built-in lower(). eg: If the string is \"Dr. Darshan Ingle @AIML Trainer\",\n",
    "then the output be \"drdarshaningleaimltrainer\"."
   ]
  },
  {
   "cell_type": "code",
   "execution_count": 15,
   "metadata": {},
   "outputs": [
    {
     "data": {
      "text/plain": [
       "'avinashvemula666gamilcom'"
      ]
     },
     "execution_count": 15,
     "metadata": {},
     "output_type": "execute_result"
    }
   ],
   "source": [
    "a = 'Avinashvemula666@gamil.com'\n",
    "b = ''.join(e for e in a if e.isalnum())\n",
    "b.lower()"
   ]
  }
 ],
 "metadata": {
  "kernelspec": {
   "display_name": "Python 3",
   "language": "python",
   "name": "python3"
  },
  "language_info": {
   "codemirror_mode": {
    "name": "ipython",
    "version": 3
   },
   "file_extension": ".py",
   "mimetype": "text/x-python",
   "name": "python",
   "nbconvert_exporter": "python",
   "pygments_lexer": "ipython3",
   "version": "3.7.3"
  }
 },
 "nbformat": 4,
 "nbformat_minor": 2
}
