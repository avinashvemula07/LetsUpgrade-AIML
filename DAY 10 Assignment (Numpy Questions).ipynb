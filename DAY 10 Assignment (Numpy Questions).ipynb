{
 "cells": [
  {
   "cell_type": "markdown",
   "metadata": {},
   "source": [
    "## NumPy\n",
    "\n",
    "__Question 1:__\n",
    "Create an element-wise comparison (greater, greater_equal, less and less_equal) of two given arrays"
   ]
  },
  {
   "cell_type": "code",
   "execution_count": 1,
   "metadata": {},
   "outputs": [],
   "source": [
    "import numpy as np"
   ]
  },
  {
   "cell_type": "code",
   "execution_count": 2,
   "metadata": {},
   "outputs": [
    {
     "name": "stdout",
     "output_type": "stream",
     "text": [
      "[3 4 5 8 7 0 2 6 1 9]\n",
      "[0.1 1.3 1.  3.  2.  5.  2.1 7.2 8.9 9. ]\n",
      "[ True  True  True  True  True False False False False False] \n",
      "\n",
      "[ True  True  True  True  True False False False False  True] \n",
      "\n",
      "[False False False False False  True  True  True  True False] \n",
      "\n",
      "[False False False False False  True  True  True  True  True] \n",
      "\n"
     ]
    }
   ],
   "source": [
    "a = np.random.choice(10, 10, replace=False)\n",
    "b = np.round([0.121, 1.26253, 1.0041, 3, 2, 5, 2.1341, 7.234, 8.8762, 9], decimals=1)\n",
    "\n",
    "print(a)\n",
    "print(b)\n",
    "print(np.greater(a, b),'\\n')\n",
    "print(np.greater_equal(a, b),'\\n')\n",
    "print(np.less(a, b),'\\n')\n",
    "print(np.less_equal(a, b),'\\n')"
   ]
  },
  {
   "cell_type": "markdown",
   "metadata": {},
   "source": [
    "__Question 2:__\n",
    "Write a NumPy program to create an array of 10 zeros,10 ones, 10 fives"
   ]
  },
  {
   "cell_type": "code",
   "execution_count": 3,
   "metadata": {},
   "outputs": [
    {
     "name": "stdout",
     "output_type": "stream",
     "text": [
      "[0 0 0 0 0 0 0 0 0 0] \n",
      "\n",
      "[1 1 1 1 1 1 1 1 1 1] \n",
      "\n",
      "[5 5 5 5 5 5 5 5 5 5]\n"
     ]
    }
   ],
   "source": [
    "x = np.zeros(10, np.int)\n",
    "print(x,'\\n')\n",
    "\n",
    "y = np.ones(10, np.int)\n",
    "print(y,'\\n')\n",
    "\n",
    "z = np.ones(10, np.int)*5\n",
    "print(z)"
   ]
  },
  {
   "cell_type": "markdown",
   "metadata": {},
   "source": [
    "__Question 3:__\n",
    "Write a NumPy program to compute sum of all elements, sum of each column and sum of each row of a given array"
   ]
  },
  {
   "cell_type": "code",
   "execution_count": 8,
   "metadata": {},
   "outputs": [
    {
     "name": "stdout",
     "output_type": "stream",
     "text": [
      "[[10  5  6  5 17  3  4]\n",
      " [11  3 12  5 16 16  4]\n",
      " [ 8 13 13 17 17  0  5]\n",
      " [ 6 11 12  3 13  5 12]\n",
      " [14  2  9 13  5  6 14]\n",
      " [ 5  1 12  1  4 12  8]] \n",
      "\n",
      "Columnwise addition =>  [54 35 64 44 72 42 47] \n",
      "\n",
      "Rowwise addition =>  [50 67 73 62 63 43]\n"
     ]
    }
   ],
   "source": [
    "array = np.random.choice(18, 42, replace=True).reshape(6,7)\n",
    "print(array,'\\n')\n",
    "\n",
    "print(\"Columnwise addition => \",np.sum(array, axis=0),'\\n')\n",
    "print('Rowwise addition => ',np.sum(array, axis=1))"
   ]
  },
  {
   "cell_type": "markdown",
   "metadata": {},
   "source": [
    "__Question 4:__\n",
    "Write a NumPy program to add, subtract, multiply, divide arguments element-wise."
   ]
  },
  {
   "cell_type": "code",
   "execution_count": 10,
   "metadata": {},
   "outputs": [
    {
     "name": "stdout",
     "output_type": "stream",
     "text": [
      "Addition [[ 101 3042   65]\n",
      " [ 115  221 1152]]\n",
      "Subtraction [[ -99 -998  -49]\n",
      " [  23   43 -578]]\n",
      "multiplication [[    100 2064440     456]\n",
      " [   3174   11748  248255]]\n",
      "division [[0.01       0.50594059 0.14035088]\n",
      " [1.5        1.48314607 0.33179191]]\n"
     ]
    }
   ],
   "source": [
    "array1 = np.array([[1,1022,8],[69,132,287]])\n",
    "array2 = np.array([[100,2020,57],[46,89,865]])\n",
    "\n",
    "print(\"Addition\",np.add(array1,array2))\n",
    "\n",
    "\n",
    "print(\"Subtraction\",np.subtract(array1,array2))  \n",
    "\n",
    "\n",
    "print(\"multiplication\",np.multiply(array1,array2))\n",
    "\n",
    "print(\"division\",np.divide(array1,array2))"
   ]
  },
  {
   "cell_type": "markdown",
   "metadata": {},
   "source": [
    "__Question 5:__\n",
    "Write a NumPy program to compute the trigonometric sine, cosine and tangent array of angles given in degree."
   ]
  },
  {
   "cell_type": "code",
   "execution_count": 12,
   "metadata": {},
   "outputs": [
    {
     "name": "stdout",
     "output_type": "stream",
     "text": [
      "sine\n",
      "\n",
      "[ 0.         -0.98803162  0.85090352 -0.30481062  0.89399666]\n",
      "\n",
      " cosine: \n",
      "\n",
      "[ 1.          0.15425145  0.52532199 -0.95241298 -0.44807362]\n",
      "\n",
      "tangent:\n",
      "\n",
      "[ 0.         -6.4053312  -1.11721493  1.61977519 -0.42070095  1.33869021\n",
      " -3.38014041]\n"
     ]
    }
   ],
   "source": [
    "print(\"sine\\n\")\n",
    "print(np.sin(np.array((0, 30, 45, 60, 90))))\n",
    "\n",
    "print(\"\\n cosine: \\n\")\n",
    "print(np.cos(np.array((0, 30, 45, 60, 90))))\n",
    "\n",
    "print(\"\\ntangent:\\n\" )\n",
    "print(np.tan(np.array((0., 30., 40., 45., 75., 180., 360.))))"
   ]
  },
  {
   "cell_type": "code",
   "execution_count": null,
   "metadata": {},
   "outputs": [],
   "source": []
  }
 ],
 "metadata": {
  "kernelspec": {
   "display_name": "Python 3",
   "language": "python",
   "name": "python3"
  },
  "language_info": {
   "codemirror_mode": {
    "name": "ipython",
    "version": 3
   },
   "file_extension": ".py",
   "mimetype": "text/x-python",
   "name": "python",
   "nbconvert_exporter": "python",
   "pygments_lexer": "ipython3",
   "version": "3.7.3"
  }
 },
 "nbformat": 4,
 "nbformat_minor": 2
}
