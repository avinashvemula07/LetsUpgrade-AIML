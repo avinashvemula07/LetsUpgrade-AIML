{
 "cells": [
  {
   "cell_type": "markdown",
   "metadata": {},
   "source": [
    "## LetsUpgarde\n",
    "\n",
    "### DAY08 Assignment\n",
    "\n",
    "##### Avinash Vemula - vemulaavinash666@gmail.com - 8096425870"
   ]
  },
  {
   "cell_type": "markdown",
   "metadata": {},
   "source": [
    "__Question 1:__\n",
    "Recreate “NB 21 map, filter, lambda.ipynb” to try different variations or perform different calculations from\n",
    "the ones that are in the NB\n"
   ]
  },
  {
   "cell_type": "markdown",
   "metadata": {},
   "source": [
    "map(), filter(), reduce() are built-in functions\n",
    "These three functions enable the functional programming aspect in python\n",
    "In functional programming, the arguments passed are the only factors that decide upon the output.\n",
    "These functions can take any other function as their parameter and can be supplied to other functions as parameters as well\n",
    "SO BASICALLY THESE FUNCTIONS TAKE THE INPUT ITERATE ITSELF (NO LOOP REQ.) THUS MAKING WORK OF THE DEVELOPER EASY\n",
    "\n",
    "map()\n",
    "map() takes two arguments :\n",
    "\n",
    "1.function(can be inbuilt/) \n",
    "2.iterables(tuple/list)\n",
    "\n",
    "SYNTAX:\n",
    "\n",
    "map(function , iterables)"
   ]
  },
  {
   "cell_type": "code",
   "execution_count": 3,
   "metadata": {},
   "outputs": [
    {
     "name": "stdout",
     "output_type": "stream",
     "text": [
      "<map object at 0x00000203F26D6198>\n",
      "<class 'map'>\n",
      "[1, 4, 27, 256, 3125]\n"
     ]
    }
   ],
   "source": [
    "def power(x):\n",
    "    return x**x\n",
    "\n",
    "i = map(power, [1,2,3,4,5])\n",
    "print(i)\n",
    "print(type(i))\n",
    "print(list(i))"
   ]
  },
  {
   "cell_type": "code",
   "execution_count": 5,
   "metadata": {},
   "outputs": [
    {
     "name": "stdout",
     "output_type": "stream",
     "text": [
      "[10, 22, 36, 52]\n"
     ]
    }
   ],
   "source": [
    "def multiplication(a,b):\n",
    "    return a*b\n",
    "\n",
    "print(list(map(multiplication, [10,11,12,13], [1,2,3,4])))"
   ]
  },
  {
   "cell_type": "markdown",
   "metadata": {},
   "source": [
    "## Lambda functions\n",
    "\n",
    "Lambda expressions are nameless. (They do not have name)\n",
    "\n",
    "It is known as Anonymous or nameless functions.\n",
    "\n",
    "THEY ARE GENERALLY PROVIDED AS INPUT TO OTHER FUNCTIONS.\n",
    "\n",
    "They are single line functions,therefore we have to provide the expression along with the function itself.\n",
    "\n",
    "LAMBDA IS NOT A NAME IT IS A KEYWORD\n",
    "\n",
    "Use of Lambda Functions:\n",
    "\n",
    " 1. One time Use (AKA throw away functions.)\n",
    " 2. Input/Output to other functions.\n",
    " 3. Reduce Code Size.\n",
    "\n",
    "SYNTAX:\n",
    "\n",
    "lambda arguments: expression"
   ]
  },
  {
   "cell_type": "code",
   "execution_count": 8,
   "metadata": {},
   "outputs": [
    {
     "data": {
      "text/plain": [
       "20"
      ]
     },
     "execution_count": 8,
     "metadata": {},
     "output_type": "execute_result"
    }
   ],
   "source": [
    "x = lambda a: a+a\n",
    "x(10)"
   ]
  },
  {
   "cell_type": "code",
   "execution_count": 10,
   "metadata": {},
   "outputs": [
    {
     "name": "stdout",
     "output_type": "stream",
     "text": [
      "[0, 4, 8, 12, 16, 20]\n"
     ]
    }
   ],
   "source": [
    "print(list(map(lambda x: x+x, [i for i in range(0,11) if i%2 == 0])))"
   ]
  },
  {
   "cell_type": "markdown",
   "metadata": {},
   "source": [
    "\n",
    "Lambda functions can be used along with built-in functions like filter(), map() and reduce().\n",
    "Use of lambda() with filter()\n",
    "\n",
    "The filter() function in Python takes in a function and a iterable as arguments. This offers an elegant way to filter out all the elements of a sequence “sequence”, for which the function returns True. Here is a small program that returns the odd numbers from an input list:"
   ]
  },
  {
   "cell_type": "code",
   "execution_count": 13,
   "metadata": {},
   "outputs": [
    {
     "name": "stdout",
     "output_type": "stream",
     "text": [
      "[4, 6, 8, 22, 6, 8, 6, 4]\n"
     ]
    }
   ],
   "source": [
    "# filter() with lambda() \n",
    "li = [1,4,3,6,8,22,6,8,6,4]\n",
    "\n",
    "final_list = list(filter(lambda x: (x%2 == 0) , li))\n",
    "\n",
    "print(final_list)"
   ]
  },
  {
   "cell_type": "markdown",
   "metadata": {},
   "source": [
    "__Question 2:__\n",
    "Recreate your own Python NB for “Classes and Objects” from the pdf provided namely “Classes&Objects.pdf”\n",
    "\n",
    "Python has been an object-oriented language since it existed. Because of this, creating and using clasees and objects are downright easy"
   ]
  },
  {
   "cell_type": "markdown",
   "metadata": {},
   "source": [
    " ## class \n",
    "    is a user-defined blueprint or prototype from which objects are created. Classes provide a means of bundling data and functionality together. Creating a new class creates a new type of object, allowing new instances of that type to be made. Each class instance can have attributes attached to it for maintaining its state. Class instances can also have methods (defined by its class) for modifying its state. To understand the need for creating a class let’s consider an example, let’s say you wanted to track the number of dogs which may have different attributes like breed, age. If a list is used, the first element could be the dog’s breed while the second element could represent its age. Let’s suppose there are 100 different dogs, then how would you know which element is supposed to be which? What if you wanted to add other properties to these dogs? This lacks organization and it’s the exact need for classes. Class creates a user-defined data structure, which holds its own data members and member functions, which can be accessed and used by creating an instance of that class. A class is like a blueprint for an object.\n",
    "\n",
    "Some points on Python class:\n",
    "\n",
    "Classes are created by keyword class\n",
    "Attributes are the variables that belong to class.\n",
    "Attributes are always public and can be accessed using dot (.) operator. Eg.: Myclass.Myattribute\n",
    "Class Definition Syntax:\n",
    "class ClassName:\n",
    "\n",
    "##### Statement-1\n",
    ".\n",
    ".\n",
    ".\n",
    "##### Statement-N"
   ]
  },
  {
   "cell_type": "code",
   "execution_count": 14,
   "metadata": {},
   "outputs": [
    {
     "name": "stdout",
     "output_type": "stream",
     "text": [
      "mamal\n",
      "I'm a mamal\n",
      "I'm a dog\n"
     ]
    }
   ],
   "source": [
    "class Dog:  \n",
    "\n",
    "    attr1 = \"mamal\"\n",
    "    attr2 = \"dog\"\n",
    "  \n",
    "       \n",
    "    def fun(self):  \n",
    "        print(\"I'm a\", self.attr1) \n",
    "        print(\"I'm a\", self.attr2) \n",
    "\n",
    "Rodger = Dog() \n",
    "  \n",
    "print(Rodger.attr1) \n",
    "Rodger.fun()"
   ]
  },
  {
   "cell_type": "code",
   "execution_count": 15,
   "metadata": {},
   "outputs": [
    {
     "name": "stdout",
     "output_type": "stream",
     "text": [
      "Hello, my name is Avinash\n"
     ]
    }
   ],
   "source": [
    "class Person:  \n",
    "    \n",
    "    # init method or constructor   \n",
    "    def __init__(self, name):  \n",
    "        self.name = name  \n",
    "    \n",
    "    # Sample Method   \n",
    "    def say_hi(self):  \n",
    "        print('Hello, my name is', self.name)  \n",
    "    \n",
    "p = Person('Avinash')  \n",
    "p.say_hi()"
   ]
  },
  {
   "cell_type": "markdown",
   "metadata": {},
   "source": [
    "## Inheritance\n",
    "The transfer of the characteristics of a class to other classes (parent class to child class) that are derived from it"
   ]
  },
  {
   "cell_type": "code",
   "execution_count": 17,
   "metadata": {},
   "outputs": [
    {
     "name": "stdout",
     "output_type": "stream",
     "text": [
      "Fruits are healthy\n",
      "Fruits are healthy\n",
      "Rich in vitamin c\n",
      "Fruits are healthy\n",
      "Apple contain powerful natural antioxides\n"
     ]
    }
   ],
   "source": [
    "class Fruits:\n",
    "    def __init__(self):\n",
    "        print(\"Fruits are healthy\")\n",
    "\n",
    "class orange(Fruits):\n",
    "    def __init__(self):\n",
    "        Fruits.__init__(self)\n",
    "        print('Rich in vitamin c')\n",
    "\n",
    "class apple(Fruits):\n",
    "    def __init__(self):\n",
    "        Fruits.__init__(self)\n",
    "        print('Apple contain powerful natural antioxides')\n",
    "\n",
    "f = Fruits()\n",
    "f1 = orange()\n",
    "f2 = apple()"
   ]
  },
  {
   "cell_type": "code",
   "execution_count": null,
   "metadata": {},
   "outputs": [],
   "source": []
  }
 ],
 "metadata": {
  "kernelspec": {
   "display_name": "Python 3",
   "language": "python",
   "name": "python3"
  },
  "language_info": {
   "codemirror_mode": {
    "name": "ipython",
    "version": 3
   },
   "file_extension": ".py",
   "mimetype": "text/x-python",
   "name": "python",
   "nbconvert_exporter": "python",
   "pygments_lexer": "ipython3",
   "version": "3.7.3"
  }
 },
 "nbformat": 4,
 "nbformat_minor": 2
}
